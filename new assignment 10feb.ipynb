{
 "cells": [
  {
   "cell_type": "code",
   "execution_count": null,
   "id": "b0d719cb-d6ac-43d3-ad82-31e6bce0c483",
   "metadata": {},
   "outputs": [],
   "source": [
    "\"\"\"Q1. Which function is used to open a file? What are the different modes of opening a file? Explain each mode\n",
    "of file opening.\"\"\""
   ]
  },
  {
   "cell_type": "code",
   "execution_count": null,
   "id": "fe77242f-30f6-4f64-8c1d-53e9df95a1dd",
   "metadata": {},
   "outputs": [],
   "source": [
    "In Python, the open() function is used to open a file. The different modes of opening a file are:\n",
    "\n",
    "'r' (Read Only) - This is the default mode, which opens a file for reading only. If the file does not exist, it raises an error.\n",
    "\n",
    "'w' (Write Only) - This mode opens a file for writing only. If the file already exists, its content will be truncated (deleted), and if the file does not exist, a new file with the given name will be created.\n",
    "\n",
    "'a' (Append Only) - This mode opens a file for writing, but instead of truncating the file, it appends to the end of the file if the file already exists. If the file does not exist, a new file with the given name will be created.\n",
    "\n",
    "'x' (Write and Create) - This mode creates a new file for writing only. If the file already exists, it raises an error.\n",
    "\n",
    "'b' (Binary Mode) - This mode is used to open a binary file, such as an image or a video file.\n",
    "\n",
    "'t' (Text Mode) - This mode is used to open a text file. This is the default mode, and it can be omitted.\n",
    "\n",
    "To open a file with a specific mode, you can specify the mode as a second argument in the open() function. For example:\n",
    "    \n",
    "    "
   ]
  },
  {
   "cell_type": "code",
   "execution_count": null,
   "id": "3742a0d7-698d-4a74-9d9e-2fa5464212fd",
   "metadata": {},
   "outputs": [],
   "source": [
    "f = open(\"sample.txt\", \"r\") # opens the file in read mode\n",
    "f = open(\"sample.txt\", \"w\") # opens the file in write mode\n",
    "f = open(\"sample.txt\", \"a\") # opens the file in append mode\n"
   ]
  },
  {
   "cell_type": "code",
   "execution_count": null,
   "id": "7f8affd0-53d1-44cb-a37b-435e6fbcf475",
   "metadata": {},
   "outputs": [],
   "source": [
    "\"\"\"Q2. Why close() function is used? Why is it important to close a file?\n"
   ]
  },
  {
   "cell_type": "code",
   "execution_count": null,
   "id": "52f7c9a2-e2ea-415d-83fe-c8bcdadddeb2",
   "metadata": {},
   "outputs": [],
   "source": [
    "The close() function is used to close an open file. When you are done reading or writing to a file, it's important to close it so that the resources it was using, such as memory or file handles, can be freed up. If a file is not closed, it can cause issues such as data corruption or file lock, which can prevent other processes from accessing the file.\n",
    "\n",
    "In addition, when you close a file, any changes that you made to the file are saved and committed. This ensures that the file is in a consistent state, which is important for maintaining the integrity of your data.\n",
    "\n",
    "Closing a file in Python can be done using the close() method. For example:\n",
    "\n",
    "python\n",
    "Copy"
   ]
  },
  {
   "cell_type": "code",
   "execution_count": null,
   "id": "ddb9610c-305c-4bed-bfdb-289813ee5d87",
   "metadata": {},
   "outputs": [],
   "source": [
    "f = open(\"sample.txt\", \"r\")\n",
    "# perform some operations on the file\n",
    "f.close()\n"
   ]
  },
  {
   "cell_type": "code",
   "execution_count": null,
   "id": "b01f145c-1aaa-46fe-8ec7-f1384bd03833",
   "metadata": {},
   "outputs": [],
   "source": [
    "It's recommended to use the with statement when working with files in Python, as this automatically closes the file after you are done with it. For example:"
   ]
  },
  {
   "cell_type": "code",
   "execution_count": null,
   "id": "c13141e6-0c42-4e53-938d-0920087fa4bd",
   "metadata": {},
   "outputs": [],
   "source": [
    "with open(\"sample.txt\", \"r\") as f:\n",
    "    # perform some operations on the file\n",
    "In this case, you don't need to explicitly call the close() method, as the with statement takes care of it for you\n",
    "\n",
    "with open(\"sample.txt\", \"r\") as f:\n",
    "    # perform some operations on the file\n"
   ]
  },
  {
   "cell_type": "code",
   "execution_count": null,
   "id": "525b82a4-4edb-4528-8245-81cf0684a048",
   "metadata": {},
   "outputs": [],
   "source": [
    "\"\"\"Q3. Write a python program to create a text file. Write ‘I want to become a Data Scientist’ in that file. Then\n",
    "close the file. Open this file and read the content of the file.\"\"\""
   ]
  },
  {
   "cell_type": "code",
   "execution_count": 2,
   "id": "af076090-d9a9-47ae-9062-6cfab874ad3e",
   "metadata": {},
   "outputs": [
    {
     "name": "stdout",
     "output_type": "stream",
     "text": [
      "I want to become a Data Scientist\n"
     ]
    }
   ],
   "source": [
    "#Here's a Python program that creates a text file and writes a message to it, then closes the file and reads its contents:\n",
    "\n",
    "# Open the file for writing\n",
    "with open(\"message.txt\", \"w\") as f:\n",
    "    # Write the message to the file\n",
    "    f.write(\"I want to become a Data Scientist\")\n",
    "\n",
    "# Open the file for reading\n",
    "with open(\"message.txt\", \"r\") as f:\n",
    "    # Read the contents of the file\n",
    "    contents = f.read()\n",
    "\n",
    "# Print the contents of the file\n",
    "print(contents)\n",
    "\n",
    "\n",
    "\n",
    "\n"
   ]
  },
  {
   "cell_type": "code",
   "execution_count": null,
   "id": "472f4d02-b0e0-4752-b3be-f3a2d3f49aaa",
   "metadata": {},
   "outputs": [],
   "source": [
    "\"\"\"Q4. Explain the following with python code: read(), readline() and readlines().\"\"\""
   ]
  },
  {
   "cell_type": "code",
   "execution_count": null,
   "id": "2008995d-f7c4-460d-aabb-dc0e34530344",
   "metadata": {},
   "outputs": [],
   "source": [
    "#read() - This method reads the entire contents of a file and returns it as a string. For example:\n",
    "with open(\"sample.txt\", \"r\") as f:\n",
    "    contents = f.read()\n",
    "    print(contents)\n",
    "#readline() - This method reads a single line of the file and returns it as a string. You can use a loop to read the entire file line by line. For example:\n",
    "   with open(\"sample.txt\", \"r\") as f:\n",
    "    line = f.readline()\n",
    "    while line:\n",
    "        print(line)\n",
    "        line = f.readline()\n",
    "#readlines() - This method reads the entire contents of the file and returns it as a list of strings, where each string represents a single line of the file. For example:\n",
    "with open(\"sample.txt\", \"r\") as f:\n",
    "    lines = f.readlines()\n",
    "    for line in lines:\n",
    "        print(line)\n",
    "#In all the examples above, sample.txt is the name of the file that you are reading from. You can replace it with the name of the file you want to read."
   ]
  },
  {
   "cell_type": "code",
   "execution_count": null,
   "id": "87be1732-b963-46dc-be2c-aaabdd97dccf",
   "metadata": {},
   "outputs": [],
   "source": [
    "\"\"\"Q5. Explain why with statement is used with open(). What is the advantage of using with statement and\n",
    "open() together?\"\"\""
   ]
  },
  {
   "cell_type": "code",
   "execution_count": null,
   "id": "4e1bec3c-fb43-42bd-9f77-c9105ee43e06",
   "metadata": {},
   "outputs": [],
   "source": [
    "\"\"\"The with statement is often used with the open() function in Python to manage file I/O. The advantage of using the with statement with open() is that it ensures that the file is properly closed, even if an exception is raised while reading or writing to the file.\n",
    "\n",
    "When you use the with statement with open(), Python automatically takes care of closing the file when the block of code inside the with statement is executed. This eliminates the need to manually close the file with the close() method, and helps to avoid issues with file handles and resource leaks.\"\"\"\n",
    "\n",
    "For example, consider the following code that opens a file, performs some operations on it, and then closes it:\n",
    "f = open(\"sample.txt\", \"r\")\n",
    "# perform some operations on the file\n",
    "f.close()\n",
    "#This code works fine, but it can be improved by using the with statement:\n",
    "with open(\"sample.txt\", \"r\") as f:\n",
    "    # perform some operations on the file\n",
    "The with statement automatically takes care of closing the file when the block of code is finished, so you don't have to worry about forgetting to close the file.\n",
    "\n",
    "In addition, using the with statement with open() is more readable and concise, making it a preferred way of managing file I/O in Python.\n"
   ]
  },
  {
   "cell_type": "code",
   "execution_count": null,
   "id": "cf709216-0c3c-40a4-b51e-e75ef1754905",
   "metadata": {},
   "outputs": [],
   "source": [
    "\"\"\"Q6. Explain the write() and writelines() functions. Give a suitable example.\"\"\""
   ]
  },
  {
   "cell_type": "code",
   "execution_count": 4,
   "id": "25aabf92-cb55-4ae6-91d5-7e7b1e3291f0",
   "metadata": {},
   "outputs": [],
   "source": [
    "#write() - This function writes a string to the file. The string can contain a single line of text or multiple lines. For example:\n",
    "\n",
    "with open(\"sample.txt\", \"w\") as f:\n",
    "    f.write(\"This is a sample text.\")\n",
    "#In this example, the string \"This is a sample text.\" is written to the file sample.txt. If the file does not exist, it will be created. If the file exists, its contents will be overwritten.\n",
    "\n",
    "#writelines() - This function writes a list of strings to the file, where each string represents a single line. For example:\n",
    "\n",
    "lines = [\"This is line 1.\", \"This is line 2.\", \"This is line 3.\"]\n",
    "with open(\"sample.txt\", \"w\") as f:\n",
    "    f.writelines(lines)\n",
    "#In this example, the list of strings lines is written to the file sample.txt. Each string in the list is written as a separate line in the file.\n",
    "\n",
    "#Note that writelines() does not add newline characters between the lines automatically. If you want each line to be on a separate line in the file, you need to add a newline character at the end of each string in the list. For example:\n",
    "\n",
    "\n",
    "lines = [\"This is line 1.\\n\", \"This is line 2.\\n\", \"This is line 3.\\n\"]\n",
    "with open(\"sample.txt\", \"w\") as f:\n",
    "    f.writelines(lines)\n",
    "\n",
    "\n",
    "\n"
   ]
  },
  {
   "cell_type": "code",
   "execution_count": null,
   "id": "528b88a7-b510-46a5-b0b9-256bb21ea15e",
   "metadata": {},
   "outputs": [],
   "source": []
  },
  {
   "cell_type": "code",
   "execution_count": null,
   "id": "ffadfaeb-c6a4-4ada-8762-22dc41456e58",
   "metadata": {},
   "outputs": [],
   "source": []
  },
  {
   "cell_type": "code",
   "execution_count": null,
   "id": "32f405fa-01e4-4dff-a6ee-385f6cb8a41d",
   "metadata": {},
   "outputs": [],
   "source": []
  }
 ],
 "metadata": {
  "kernelspec": {
   "display_name": "Python 3 (ipykernel)",
   "language": "python",
   "name": "python3"
  },
  "language_info": {
   "codemirror_mode": {
    "name": "ipython",
    "version": 3
   },
   "file_extension": ".py",
   "mimetype": "text/x-python",
   "name": "python",
   "nbconvert_exporter": "python",
   "pygments_lexer": "ipython3",
   "version": "3.10.8"
  }
 },
 "nbformat": 4,
 "nbformat_minor": 5
}
